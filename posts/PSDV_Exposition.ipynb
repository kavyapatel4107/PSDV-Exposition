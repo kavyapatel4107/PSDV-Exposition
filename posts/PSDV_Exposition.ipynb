{
 "cells": [
  {
   "cell_type": "raw",
   "id": "0563b867",
   "metadata": {
    "vscode": {
     "languageId": "raw"
    }
   },
   "source": [
    "---\n",
    "author: J007_PSDV\n",
    "badges:\n",
    "  - ML\n",
    "date: '2025-02-25'\n",
    "title: \"Interactive Data Visualization with Ipychart: A Python Chart.js Bridge\"\n",
    "---"
   ]
  },
  {
   "cell_type": "markdown",
   "id": "d1bc1334-fca1-497b-a348-943f0e3cda2f",
   "metadata": {},
   "source": [
    "from IPython.display import display, HTML\n",
    "\n",
    "html_content = \"\"\"\n",
    "<h1 style=\"text-align:center; font-family:Arial, sans-serif; color:#333;\">\n",
    "    Interactive Data Visualization with <span style=\"color:#007bff; font-weight:bold;\">Ipychart</span>: A Python-Chart.js Bridge\n",
    "</h1>\n",
    "\"\"\"\n",
    "display(HTML(html_content))"
   ]
  },
  {
   "cell_type": "code",
   "execution_count": null,
   "id": "9e4d34f3-34d0-4e60-97e1-2ee96dcf4dbe",
   "metadata": {},
   "outputs": [],
   "source": []
  }
 ],
 "metadata": {
  "kernelspec": {
   "display_name": "Python 3",
   "language": "python",
   "name": "python3"
  },
  "language_info": {
   "codemirror_mode": {
    "name": "ipython",
    "version": 3
   },
   "file_extension": ".py",
   "mimetype": "text/x-python",
   "name": "python",
   "nbconvert_exporter": "python",
   "pygments_lexer": "ipython3",
   "version": "3.12.5"
  }
 },
 "nbformat": 4,
 "nbformat_minor": 5
}
