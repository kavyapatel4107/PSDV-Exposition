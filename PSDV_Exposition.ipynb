{
 "cells": [
  {
   "cell_type": "markdown",
   "id": "124aa055",
   "metadata": {},
   "source": [
    "# **Interactive Data Visualization with Ipychart: A Python Chart.js Bridge**"
   ]
  },
  {
   "cell_type": "markdown",
   "id": "16857f5a",
   "metadata": {},
   "source": [
    "## $$Introduction$$"
   ]
  },
  {
   "cell_type": "markdown",
   "id": "3ec2cafa",
   "metadata": {},
   "source": [
    "&nbsp;&nbsp;We are a team of three members: Kavya Patel, Krish Patil, and Nachiket Patil. In this article, we will explore the Ipychart library, which is used explicitly for Python in Jupyter Notebook.\n",
    "Ipychart is a Python library that leverages the power of Chart.js to enable the creation of fully interactive, customizable, and modular charts directly within Jupyter Notebooks. It allows seamless chart creation using Python syntax, supports integration with pandas data frames for quick visualization, and offers features like dynamic tooltips, zooming, and predefined color schemes. Particularly useful for data scientists and analysts, Ipychart simplifies data visualization by enabling the creation of visually appealing, interactive charts without leaving the Jupyter Notebook environment, streamlining exploratory data analysis and presentation."
   ]
  },
  {
   "cell_type": "markdown",
   "id": "6fc02904",
   "metadata": {},
   "source": [
    "## $$Installation~and~Setup$$\n",
    "&nbsp;&nbsp;In this section, we will guide you through the installation and setup of Chart.js in the form of Ipychart on your system for use in Jupyter Notebook. You will learn how to install the ipychart library, verify the installation, and enable it in Jupyter. Once set up, you can easily create interactive charts using Ipychart in your notebooks."
   ]
  },
  {
   "cell_type": "markdown",
   "id": "e20039f7",
   "metadata": {},
   "source": [
    "### **Installation**"
   ]
  },
  {
   "cell_type": "markdown",
   "id": "18335184",
   "metadata": {},
   "source": [
    "Install the ipychart Library     .   \n",
    "Since ipychart is a Python library, we need to install it using pip. Open the command prompt and run:\n"
   ]
  },
  {
   "cell_type": "code",
   "execution_count": null,
   "id": "383c838c",
   "metadata": {},
   "outputs": [],
   "source": [
    "pip install ipychart"
   ]
  },
  {
   "cell_type": "markdown",
   "id": "1d30cb06",
   "metadata": {},
   "source": [
    "### **Setup**"
   ]
  },
  {
   "cell_type": "markdown",
   "id": "854d1da9",
   "metadata": {},
   "source": [
    "To use Chart.js in the form of Ipychart in your Jupyter Notebook, import the following library:\n"
   ]
  },
  {
   "cell_type": "code",
   "execution_count": null,
   "id": "4033ff91",
   "metadata": {},
   "outputs": [],
   "source": [
    "from ipychart import Chart"
   ]
  },
  {
   "cell_type": "markdown",
   "id": "52bd27cd",
   "metadata": {},
   "source": [
    "Now, you are ready to use Ipychart in your Jupyter Notebook!"
   ]
  },
  {
   "cell_type": "markdown",
   "id": "75951740",
   "metadata": {},
   "source": [
    "## $$Key~Features~and~Explanation$$"
   ]
  },
  {
   "cell_type": "markdown",
   "id": "b472c324",
   "metadata": {},
   "source": [
    "Ipychart offers a range of powerful features that make it an excellent tool for interactive data visualization in Jupyter Notebooks:"
   ]
  },
  {
   "cell_type": "markdown",
   "id": "8599d43e",
   "metadata": {},
   "source": [
    "**Integration with Chart.js**:  \n",
    "&nbsp;&nbsp;&nbsp;&nbsp;It brings the capabilities of Chart.js to Python, supporting a wide variety of chart types such as line, bar, pie, doughnut, radar, and scatter charts, among others.  \n",
    "\n",
    "**Pandas Interface**:  \n",
    "&nbsp;&nbsp;&nbsp;&nbsp;Ipychart allows seamless chart creation directly from pandas dataframes, making it easy to visualize data without extensive preprocessing.  \n",
    "\n",
    "**High Customizability**:  \n",
    "&nbsp;&nbsp;&nbsp;&nbsp;Users can configure legends, titles, tooltips, scales, layouts, and animations through Python dictionaries. Advanced customization is also possible using JavaScript callback functions.  \n",
    "\n",
    "**Interactive Features**:  \n",
    "&nbsp;&nbsp;&nbsp;&nbsp;Charts include dynamic tooltips, clickable legends, and zoom functionality for enhanced interactivity. Zooming can be reset with a double click.  \n",
    "\n",
    "**Predefined Color Schemes**:  \n",
    "&nbsp;&nbsp;&nbsp;&nbsp;It supports automatic color schemes inspired by tools like Tableau and ColorBrewer for visually appealing charts.  \n",
    "\n",
    "**Export Capability**:  \n",
    "&nbsp;&nbsp;&nbsp;&nbsp;Charts can be exported as PNG or JPG images using the `to_image()` method.  \n",
    "\n",
    "**Responsive Design**:  \n",
    "&nbsp;&nbsp;&nbsp;&nbsp;Charts adapt to different screen sizes for optimal display across devices.    \n",
    "  \n",
    "These features make Ipychart a versatile and user-friendly library for creating engaging visualizations directly within Jupyter Notebook environments.\n"
   ]
  },
  {
   "cell_type": "markdown",
   "id": "eb1726c7",
   "metadata": {},
   "source": [
    "## $$Code~Examples$$"
   ]
  },
  {
   "cell_type": "markdown",
   "id": "82284e23",
   "metadata": {},
   "source": [
    "**Example 1**\n",
    "  \n",
    "We imported Chart from the ipychart library and random to generate random values. A seed was set for consistency, and the data dictionary was created with a dataset labeled \"Product Popularity.\" Each data point has a random x value, a y value between 1 and 5, and a radius (r) based on another random value. The bubbles are styled with a purple fill and an indigo border. Using the Chart function, we created a bubble chart, with a legend positioned at the top. Finally, display(bubble_chart) renders the chart, visually representing product popularity."
   ]
  },
  {
   "cell_type": "code",
   "execution_count": 2,
   "id": "48f70cff",
   "metadata": {},
   "outputs": [
    {
     "data": {
      "application/vnd.jupyter.widget-view+json": {
       "model_id": "4a0ac69625394be99fd71f24bf23e074",
       "version_major": 2,
       "version_minor": 0
      },
      "text/plain": [
       "Chart(layout=Layout(align_self='stretch', height='auto'))"
      ]
     },
     "metadata": {},
     "output_type": "display_data"
    }
   ],
   "source": [
    "from ipychart import Chart\n",
    "import random\n",
    "\n",
    "random.seed(0)\n",
    "\n",
    "data = {\n",
    "    \"datasets\": [{\n",
    "        \"label\": \"Product Popularity\",\n",
    "        \"data\": [{\"x\": random.randint(100, 500), \"y\": random.uniform(1, 5), \"r\": random.randint(100, 500) / 20} for _ in range(10)],\n",
    "        \"backgroundColor\": \"rgba(128, 0, 128, 0.6)\",\n",
    "        \"borderColor\": \"rgba(75, 0, 130, 1)\",\n",
    "        \"borderWidth\": 2\n",
    "    }]\n",
    "}\n",
    "\n",
    "bubble_chart = Chart(\n",
    "    data=data,\n",
    "    kind=\"bubble\",\n",
    "    options={\n",
    "        \"plugins\": {\n",
    "            \"legend\": {\"position\": \"top\"}\n",
    "        }\n",
    "    }\n",
    ")\n",
    "\n",
    "display(bubble_chart)"
   ]
  },
  {
   "cell_type": "markdown",
   "id": "c74bd087",
   "metadata": {},
   "source": [
    "Output:"
   ]
  },
  {
   "cell_type": "markdown",
   "id": "ca07d33f",
   "metadata": {},
   "source": [
    "<img src=\"bubble_chart.gif\" alt=\"Bubble Chart GIF\" style=\"max-width: 100%; height: auto;\">"
   ]
  },
  {
   "cell_type": "markdown",
   "id": "29d922cb",
   "metadata": {},
   "source": [
    "**Example 2**\n",
    "  \n",
    "We imported Chart from the ipychart library to create an interactive bar chart. The data dictionary defines product labels and sales data for 2024 and 2025, each represented with a unique color. Using the Chart function, we generated a bar graph to compare sales performance across different products. The tooltip plugin allows users to see details when hovering over bars, while the legend at the top helps differentiate the datasets. Finally, display(chart) renders the chart, making it easy to visualize and analyze sales trends."
   ]
  },
  {
   "cell_type": "code",
   "execution_count": 1,
   "id": "48c10a67",
   "metadata": {},
   "outputs": [
    {
     "data": {
      "application/vnd.jupyter.widget-view+json": {
       "model_id": "7083977c09594b548882cfe714850290",
       "version_major": 2,
       "version_minor": 0
      },
      "text/plain": [
       "Chart(layout=Layout(align_self='stretch', height='auto'))"
      ]
     },
     "metadata": {},
     "output_type": "display_data"
    }
   ],
   "source": [
    "from ipychart import Chart\n",
    "\n",
    "data = {\n",
    "    \"labels\": [\"Product A\", \"Product B\", \"Product C\", \"Product D\", \"Product E\"],\n",
    "    \"datasets\": [\n",
    "        {\"label\": \"2024 Sales\", \"data\": [300, 400, 500, 600, 450], \"backgroundColor\": \"#36A2EB\"},\n",
    "        {\"label\": \"2025 Sales\", \"data\": [350, 450, 550, 650, 500], \"backgroundColor\": \"#FF6384\"}\n",
    "    ]\n",
    "}\n",
    "\n",
    "chart = Chart(\n",
    "    data=data,\n",
    "    kind=\"bar\",\n",
    "    options={\n",
    "        \"plugins\": {\n",
    "            \"tooltip\": {\"enabled\": True, \"mode\": \"index\"},\n",
    "            \"legend\": {\"display\": True, \"position\": \"top\"}\n",
    "        },\n",
    "        \"scales\": {\n",
    "            \"x\": {\"title\": {\"display\": True, \"text\": \"Products\"}},\n",
    "            \"y\": {\"title\": {\"display\": True, \"text\": \"Sales Volume\"}}\n",
    "        }\n",
    "    }\n",
    ")\n",
    "\n",
    "display(chart)\n"
   ]
  },
  {
   "cell_type": "markdown",
   "id": "60d02841",
   "metadata": {},
   "source": [
    "Output:"
   ]
  },
  {
   "cell_type": "markdown",
   "id": "86f60ed8",
   "metadata": {},
   "source": [
    "<img src=\"bar_chart.gif\" alt=\"Bar Chart GIF\" style=\"max-width: 100%; height: auto;\">"
   ]
  },
  {
   "cell_type": "markdown",
   "id": "fd53219a",
   "metadata": {},
   "source": [
    "**Example 3**\n",
    "  \n",
    "We imported pandas to manage data and polarplot from ipychart to create a polar chart. A DataFrame was created with categories like Speed, Reliability, Comfort, Safety, and Efficiency, each assigned a numerical value. Using the polarplot function, we mapped categories to the axes and plotted their corresponding values in a circular format. This visualization helps compare different attributes in a structured manner. Finally, display(chart) renders the polar chart, making it easy to analyze category-wise performance."
   ]
  },
  {
   "cell_type": "code",
   "execution_count": 3,
   "id": "facd4714",
   "metadata": {},
   "outputs": [
    {
     "data": {
      "application/vnd.jupyter.widget-view+json": {
       "model_id": "c13ec397c72c4b3192366f4a613078ae",
       "version_major": 2,
       "version_minor": 0
      },
      "text/plain": [
       "Chart(layout=Layout(align_self='stretch', height='auto'))"
      ]
     },
     "metadata": {},
     "output_type": "display_data"
    }
   ],
   "source": [
    "import pandas as pd\n",
    "from ipychart import polarplot\n",
    "\n",
    "data = pd.DataFrame({\n",
    "    \"Category\": [\"Speed\", \"Reliability\", \"Comfort\", \"Safety\", \"Efficiency\"],\n",
    "    \"Values\": [35, 38, 65, 70, 24]\n",
    "})\n",
    "\n",
    "chart = polarplot(\n",
    "    data=data,\n",
    "    x=\"Category\",\n",
    "    y=\"Values\"\n",
    ")\n",
    "\n",
    "display(chart)"
   ]
  },
  {
   "cell_type": "markdown",
   "id": "ea9bb4f2",
   "metadata": {},
   "source": [
    "Output:"
   ]
  },
  {
   "cell_type": "markdown",
   "id": "38006c74",
   "metadata": {},
   "source": [
    "<img src=\"polar_chart.gif\" alt=\"Polar Chart GIF\" style=\"max-width: 100%; height: auto;\">"
   ]
  },
  {
   "cell_type": "markdown",
   "id": "3e24a498",
   "metadata": {},
   "source": [
    "**Example 4**\n",
    "  \n",
    "We imported pandas to handle data and Chart from ipychart to create a pie chart. A DataFrame was created with smartphone companies and their respective market shares. The data dictionary extracts company names as labels and their market shares as values, assigning unique colors to each segment. Using the Chart function, we generated a pie chart to visualize market distribution. The tooltip plugin enables hover details, while the legend on the right helps identify each company. Finally, display(pie_chart) renders the chart, providing a clear visual representation of market share distribution."
   ]
  },
  {
   "cell_type": "code",
   "execution_count": 4,
   "id": "c52756b9",
   "metadata": {},
   "outputs": [
    {
     "data": {
      "application/vnd.jupyter.widget-view+json": {
       "model_id": "2c1d2b0eaa244f68921fa71ccad8d3aa",
       "version_major": 2,
       "version_minor": 0
      },
      "text/plain": [
       "Chart(layout=Layout(align_self='stretch', height='auto'))"
      ]
     },
     "metadata": {},
     "output_type": "display_data"
    }
   ],
   "source": [
    "import pandas as pd\n",
    "from ipychart import Chart\n",
    "\n",
    "df = pd.DataFrame({\n",
    "    \"Company\": [\"Apple\", \"Samsung\", \"Huawei\", \"Xiaomi\", \"Oppo\", \"Vivo\"],\n",
    "    \"Market_Share\": [30, 25, 15, 12, 10, 8]\n",
    "})\n",
    "\n",
    "data = {\n",
    "    \"labels\": df[\"Company\"].tolist(),\n",
    "    \"datasets\": [{\n",
    "        \"label\": \"Market Share\",\n",
    "        \"data\": df[\"Market_Share\"].tolist(),\n",
    "        \"backgroundColor\": [\"#3498db\", \"#e74c3c\", \"#f1c40f\", \"#2ecc71\", \"#9b59b6\", \"#e67e22\"],\n",
    "        \"borderColor\": \"#fff\",\n",
    "        \"borderWidth\": 2\n",
    "    }]\n",
    "}\n",
    "\n",
    "pie_chart = Chart(\n",
    "    data=data,\n",
    "    kind=\"pie\", \n",
    "    options={\n",
    "        \"plugins\": {\n",
    "            \"tooltip\": {\"enabled\": True, \"mode\": \"index\"},\n",
    "            \"legend\": {\"display\": True, \"position\": \"right\"}\n",
    "        },\n",
    "        \"layout\": {\n",
    "            \"padding\": 50  \n",
    "        }\n",
    "    }\n",
    ")\n",
    "\n",
    "display(pie_chart)"
   ]
  },
  {
   "cell_type": "markdown",
   "id": "61e7d479",
   "metadata": {},
   "source": [
    "Output:"
   ]
  },
  {
   "cell_type": "markdown",
   "id": "8021774c",
   "metadata": {},
   "source": [
    "<img src=\"pie_chart.gif\" alt=\"Pie Chart GIF\" style=\"max-width: 100%; height: auto;\">"
   ]
  },
  {
   "cell_type": "markdown",
   "id": "22d7987f",
   "metadata": {},
   "source": [
    "## $$Practical~Use~Cases$$\n",
    "\n",
    "Ipychart makes it easy to create interactive and visually appealing charts inside Jupyter Notebooks. Here’s where it can be super useful in real life:\n",
    "  \n",
    "**Exploring Data Easily:**  \n",
    "&nbsp;&nbsp;Instead of staring at raw numbers, you can turn them into clear, interactive charts to spot trends and patterns.  \n",
    "  \n",
    "**Making Business Reports More Engaging:**  \n",
    "&nbsp;&nbsp;If you're tracking sales, profits, or customer growth, charts can bring your data to life and make it easier to understand.  \n",
    "  \n",
    "**Tracking Machine Learning Models:**  \n",
    "&nbsp;&nbsp;Whether you're training a model or testing its accuracy, visualizing metrics helps you see what’s working and what’s not.  \n",
    "  \n",
    "**Building Live Dashboards:**  \n",
    "&nbsp;&nbsp;Keep an eye on stock prices, website traffic, or sensor data with real-time updates inside your notebook.  \n",
    "  \n",
    "**Presenting Survey Results:**  \n",
    "&nbsp;&nbsp;Instead of reading through boring spreadsheets, you can turn responses into colorful pie charts or bar graphs.  \n",
    "  \n",
    "**Comparing Products or Performance:**  \n",
    "&nbsp;&nbsp;Want to see how different phone brands stack up? A radar or polar chart can make comparisons easy to understand.   \n",
    "  \n",
    "**Helping with Research & Learning:**  \n",
    "&nbsp;&nbsp;If you’re a student or researcher, interactive charts make complex data much more accessible and fun to analyze.  \n"
   ]
  },
  {
   "cell_type": "markdown",
   "id": "124081ab",
   "metadata": {},
   "source": [
    "## $$Conclusion$$\n",
    "\n",
    "&nbsp;&nbsp;As a team, Ipychart is a powerful and user-friendly Python library that simplifies the creation of interactive and customizable charts within Jupyter Notebooks. By leveraging the robust capabilities of Chart.js, it seamlessly integrates with pandas, offers dynamic interactivity, and provides predefined color schemes—making it an excellent choice for data scientists, analysts, and educators. Whether you're conducting exploratory data analysis, creating engaging presentations, or teaching visualization concepts, Ipychart streamlines the process and enhances data storytelling. Its flexibility and ease of use make it a valuable tool for anyone working with data visualization in a notebook environment."
   ]
  },
  {
   "cell_type": "markdown",
   "id": "a3384b94",
   "metadata": {},
   "source": [
    "## $$Reference~and~further~Readings:$$\n",
    "\n",
    "&nbsp;&nbsp;For more advanced features and in-depth usage of Ipychart, refer to the official user guide: <a href=\"https://nicohlr.github.io/ipychart/user_guide/introduction.html\" target=\"_blank\">\n",
    "    Ipychart Advanced Guide – Callback Functions\n",
    "</a>. This guide covers interactive functionalities, event handling, and advanced customization options, helping you make the most out of Ipychart in Jupyter Notebooks."
   ]
  }
 ],
 "metadata": {
  "kernelspec": {
   "display_name": "Python 3",
   "language": "python",
   "name": "python3"
  },
  "language_info": {
   "codemirror_mode": {
    "name": "ipython",
    "version": 3
   },
   "file_extension": ".py",
   "mimetype": "text/x-python",
   "name": "python",
   "nbconvert_exporter": "python",
   "pygments_lexer": "ipython3",
   "version": "3.12.5"
  }
 },
 "nbformat": 4,
 "nbformat_minor": 5
}
