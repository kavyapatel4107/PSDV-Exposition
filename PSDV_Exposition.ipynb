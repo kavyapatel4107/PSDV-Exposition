{
 "cells": [
  {
   "cell_type": "markdown",
   "id": "16857f5a",
   "metadata": {},
   "source": [
    "## $$Introduction$$"
   ]
  },
  {
   "cell_type": "markdown",
   "id": "3ec2cafa",
   "metadata": {},
   "source": [
    "&nbsp;&nbsp;We are a team of three members: Kavya Patel, Krish Patil, and Nachiket Patil. In this article, we will explore the Ipychart library, which is used explicitly for Python in Jupyter Notebook.\n",
    "Ipychart is a Python library that leverages the power of Chart.js to enable the creation of fully interactive, customizable, and modular charts directly within Jupyter Notebooks. It allows seamless chart creation using Python syntax, supports integration with pandas data frames for quick visualization, and offers features like dynamic tooltips, zooming, and predefined color schemes. Particularly useful for data scientists and analysts, Ipychart simplifies data visualization by enabling the creation of visually appealing, interactive charts without leaving the Jupyter Notebook environment, streamlining exploratory data analysis and presentation."
   ]
  },
  {
   "cell_type": "markdown",
   "id": "6fc02904",
   "metadata": {},
   "source": [
    "## $$Installation~and~Setup$$\n",
    "&nbsp;&nbsp;In this section, we will guide you through the installation and setup of Chart.js in the form of Ipychart on your system for use in Jupyter Notebook. You will learn how to install the ipychart library, verify the installation, and enable it in Jupyter. Once set up, you can easily create interactive charts using Ipychart in your notebooks."
   ]
  },
  {
   "cell_type": "markdown",
   "id": "e20039f7",
   "metadata": {},
   "source": [
    "### **Installation**"
   ]
  },
  {
   "cell_type": "markdown",
   "id": "18335184",
   "metadata": {},
   "source": [
    "Install the ipychart Library     .   \n",
    "Since ipychart is a Python library, we need to install it using pip. Open the command prompt and run:\n"
   ]
  },
  {
   "cell_type": "code",
   "execution_count": null,
   "id": "383c838c",
   "metadata": {},
   "outputs": [],
   "source": [
    "pip install ipychart"
   ]
  },
  {
   "cell_type": "markdown",
   "id": "1d30cb06",
   "metadata": {},
   "source": [
    "### **Setup**"
   ]
  },
  {
   "cell_type": "markdown",
   "id": "854d1da9",
   "metadata": {},
   "source": [
    "To use Chart.js in the form of Ipychart in your Jupyter Notebook, import the following library:\n"
   ]
  },
  {
   "cell_type": "code",
   "execution_count": null,
   "id": "4033ff91",
   "metadata": {},
   "outputs": [],
   "source": [
    "from ipychart import Chart"
   ]
  },
  {
   "cell_type": "markdown",
   "id": "52bd27cd",
   "metadata": {},
   "source": [
    "Now, you are ready to use Ipychart in your Jupyter Notebook!"
   ]
  },
  {
   "cell_type": "markdown",
   "id": "75951740",
   "metadata": {},
   "source": [
    "## $$Key~Features~and~Explanation$$"
   ]
  },
  {
   "cell_type": "markdown",
   "id": "b472c324",
   "metadata": {},
   "source": [
    "Ipychart offers a range of powerful features that make it an excellent tool for interactive data visualization in Jupyter Notebooks:"
   ]
  },
  {
   "cell_type": "markdown",
   "id": "8599d43e",
   "metadata": {},
   "source": [
    "**Integration with Chart.js**:  \n",
    "&nbsp;&nbsp;&nbsp;&nbsp;It brings the capabilities of Chart.js to Python, supporting a wide variety of chart types such as line, bar, pie, doughnut, radar, and scatter charts, among others.  \n",
    "\n",
    "**Pandas Interface**:  \n",
    "&nbsp;&nbsp;&nbsp;&nbsp;Ipychart allows seamless chart creation directly from pandas dataframes, making it easy to visualize data without extensive preprocessing.  \n",
    "\n",
    "**High Customizability**:  \n",
    "&nbsp;&nbsp;&nbsp;&nbsp;Users can configure legends, titles, tooltips, scales, layouts, and animations through Python dictionaries. Advanced customization is also possible using JavaScript callback functions.  \n",
    "\n",
    "**Interactive Features**:  \n",
    "&nbsp;&nbsp;&nbsp;&nbsp;Charts include dynamic tooltips, clickable legends, and zoom functionality for enhanced interactivity. Zooming can be reset with a double click.  \n",
    "\n",
    "**Predefined Color Schemes**:  \n",
    "&nbsp;&nbsp;&nbsp;&nbsp;It supports automatic color schemes inspired by tools like Tableau and ColorBrewer for visually appealing charts.  \n",
    "\n",
    "**Export Capability**:  \n",
    "&nbsp;&nbsp;&nbsp;&nbsp;Charts can be exported as PNG or JPG images using the `to_image()` method.  \n",
    "\n",
    "**Responsive Design**:  \n",
    "&nbsp;&nbsp;&nbsp;&nbsp;Charts adapt to different screen sizes for optimal display across devices.    \n",
    "  \n",
    "These features make Ipychart a versatile and user-friendly library for creating engaging visualizations directly within Jupyter Notebook environments.\n"
   ]
  },
  {
   "cell_type": "markdown",
   "id": "eb1726c7",
   "metadata": {},
   "source": [
    "## $$Code~Examples$$"
   ]
  },
  {
   "cell_type": "markdown",
   "id": "82284e23",
   "metadata": {},
   "source": [
    "**Example 1**\n",
    "  \n",
    "This code generates a bubble chart using the ipychart library in a Jupyter Notebook. It first initializes a random seed for reproducibility and creates a dataset of 10 tuples, where each tuple represents a product with random values for sales (x-axis), ratings (y-axis), and popularity (bubble size). The Chart function is used to create a bubble chart with a dataset, where each bubble's radius (r) is determined by popularity divided by 20. The chart is styled with purple bubbles, indigo borders, and hover effects. Labels for sales and ratings are added, along with a tooltip and a legend. Finally, the chart is displayed in the notebook."
   ]
  },
  {
   "cell_type": "code",
   "execution_count": 4,
   "id": "48f70cff",
   "metadata": {},
   "outputs": [
    {
     "data": {
      "application/vnd.jupyter.widget-view+json": {
       "model_id": "f186fb17b8624b7b82d7d40cf473f0f8",
       "version_major": 2,
       "version_minor": 0
      },
      "text/plain": [
       "Chart(layout=Layout(align_self='stretch', height='auto'))"
      ]
     },
     "metadata": {},
     "output_type": "display_data"
    }
   ],
   "source": [
    "import random\n",
    "from ipychart import Chart\n",
    "from IPython.display import display\n",
    "from ipywidgets import widgets\n",
    "from matplotlib import pyplot as plt\n",
    "from ipywidgets import interact\n",
    "\n",
    "random.seed(0)\n",
    "\n",
    "# Sample data: (sales, ratings, popularity)\n",
    "data = {\n",
    "    \"bubble\": [\n",
    "        (random.randint(100, 500), random.uniform(1, 5), random.randint(100, 500))\n",
    "        for _ in range(10)\n",
    "    ]\n",
    "}\n",
    "\n",
    "bubble_chart = Chart(\n",
    "    data={\n",
    "        \"datasets\": [\n",
    "            {\n",
    "                \"label\": \"Product Popularity\",\n",
    "                \"data\": [{\"x\": b[0], \"y\": b[1], \"r\": b[2] / 20} for b in data[\"bubble\"]],\n",
    "                \"backgroundColor\": \"rgba(128, 0, 128, 0.6)\",\n",
    "                \"borderColor\": \"rgba(75, 0, 130, 1)\",\n",
    "                \"borderWidth\": 2,\n",
    "                \"hoverBackgroundColor\": \"rgba(255, 0, 255, 0.8)\",\n",
    "            }\n",
    "        ]\n",
    "    },\n",
    "    options={\n",
    "        \"plugins\": {\n",
    "            \"tooltip\": {\"enabled\": True, \"mode\": \"nearest\"},\n",
    "            \"legend\": {\"display\": True, \"position\": \"top\"}\n",
    "        },\n",
    "        \"scales\": {\n",
    "            \"x\": {\"title\": {\"display\": True, \"text\": \"Sales\"}},\n",
    "            \"y\": {\"title\": {\"display\": True, \"text\": \"Ratings\"}}\n",
    "        }\n",
    "    },\n",
    "    kind=\"bubble\"\n",
    ")\n",
    "\n",
    "display(bubble_chart)"
   ]
  },
  {
   "cell_type": "markdown",
   "id": "29d922cb",
   "metadata": {},
   "source": [
    "**Example 2**\n",
    "  \n",
    "This code creates a bar chart using ipychart in a Jupyter Notebook. It defines sales data for five products across two years (2024 and 2025). Each dataset has different colors—blue for 2024 and red for 2025—with border styling and hover effects. The Chart function is used to generate a bar chart with labeled axes: \"Products\" on the x-axis and \"Sales Volume\" on the y-axis. The chart includes a tooltip for better interactivity and a legend positioned at the top."
   ]
  },
  {
   "cell_type": "code",
   "execution_count": 5,
   "id": "48c10a67",
   "metadata": {},
   "outputs": [
    {
     "data": {
      "application/vnd.jupyter.widget-view+json": {
       "model_id": "60dd6ba4169241faafc4cc668115ac3b",
       "version_major": 2,
       "version_minor": 0
      },
      "text/plain": [
       "Chart(layout=Layout(align_self='stretch', height='auto'))"
      ]
     },
     "metadata": {},
     "output_type": "display_data"
    }
   ],
   "source": [
    "from ipychart import Chart\n",
    "\n",
    "# Define data with multiple datasets and more products\n",
    "data = {\n",
    "    \"labels\": [\"Product A\", \"Product B\", \"Product C\", \"Product D\", \"Product E\"],\n",
    "    \"datasets\": [\n",
    "        {\n",
    "            \"label\": \"2024 Sales\",\n",
    "            \"data\": [300, 400, 500, 600, 450],\n",
    "            \"backgroundColor\": \"rgba(54, 162, 235, 0.6)\",  # Blue\n",
    "            \"borderColor\": \"rgba(54, 162, 235, 1)\",\n",
    "            \"borderWidth\": 2,\n",
    "            \"hoverBackgroundColor\": \"rgba(54, 162, 235, 0.9)\"\n",
    "        },\n",
    "        {\n",
    "            \"label\": \"2025 Sales\",\n",
    "            \"data\": [350, 450, 550, 650, 500],\n",
    "            \"backgroundColor\": \"rgba(255, 99, 132, 0.6)\",  # Red\n",
    "            \"borderColor\": \"rgba(255, 99, 132, 1)\",\n",
    "            \"borderWidth\": 2,\n",
    "            \"hoverBackgroundColor\": \"rgba(255, 99, 132, 0.9)\"\n",
    "        }\n",
    "    ]\n",
    "}\n",
    "\n",
    "# Create the bar chart\n",
    "chart = Chart(\n",
    "    data=data,\n",
    "    kind=\"bar\",\n",
    "    options={\n",
    "        \"plugins\": {\n",
    "            \"tooltip\": {\"enabled\": True, \"mode\": \"index\"},\n",
    "            \"legend\": {\"display\": True, \"position\": \"top\"}\n",
    "        },\n",
    "        \"scales\": {\n",
    "            \"x\": {\"title\": {\"display\": True, \"text\": \"Products\"}},\n",
    "            \"y\": {\"title\": {\"display\": True, \"text\": \"Sales Volume\"}}\n",
    "        }\n",
    "    }\n",
    ")\n",
    "\n",
    "display(chart)\n"
   ]
  },
  {
   "cell_type": "markdown",
   "id": "fd53219a",
   "metadata": {},
   "source": [
    "**Example 3**\n",
    "  \n",
    "This code creates a polar area chart using ipychart in a Jupyter Notebook. A pandas DataFrame is created with categories representing performance metrics (Speed, Reliability, Comfort, Safety, and Efficiency) and their corresponding values. The polarplot function is used to generate the chart, with \"Category\" on the x-axis and \"Values\" representing each metric's value. The chart visually compares different aspects of a car model’s performance."
   ]
  },
  {
   "cell_type": "code",
   "execution_count": 7,
   "id": "facd4714",
   "metadata": {},
   "outputs": [
    {
     "data": {
      "application/vnd.jupyter.widget-view+json": {
       "model_id": "320c6ab151044d44a69def16ba19ad90",
       "version_major": 2,
       "version_minor": 0
      },
      "text/plain": [
       "Chart(layout=Layout(align_self='stretch', height='auto'))"
      ]
     },
     "metadata": {},
     "output_type": "display_data"
    }
   ],
   "source": [
    "import pandas as pd\n",
    "from ipychart import polarplot\n",
    "\n",
    "# Create a pandas DataFrame for polar area chart data\n",
    "data = pd.DataFrame({\n",
    "    \"Category\": [\"Speed\", \"Reliability\", \"Comfort\", \"Safety\", \"Efficiency\"],\n",
    "    \"Values\": [35, 38, 65, 70, 24]  # Example values for a car model's performance metrics\n",
    "})\n",
    "\n",
    "# Create a polar area chart using the polarplot function\n",
    "chart = polarplot(\n",
    "    data=data,\n",
    "    x=\"Category\",  # Categories (e.g., metrics)\n",
    "    y=\"Values\" # Values corresponding to each category\n",
    ")\n",
    "\n",
    "display(chart)"
   ]
  },
  {
   "cell_type": "markdown",
   "id": "3e24a498",
   "metadata": {},
   "source": [
    "**Example 4**\n",
    "  \n",
    "This code creates a pie chart using ipychart in a Jupyter Notebook to visualize the market share of six smartphone companies. A pandas DataFrame stores the company names and their market share percentages. A modern color palette with semi-transparent colors is defined for better visualization. The data is structured into a format compatible with Chart, where labels represent companies and dataset values represent market share. The pie chart includes white borders, hover effects, and a legend positioned on the right. A layout padding of 50 ensures proper spacing."
   ]
  },
  {
   "cell_type": "code",
   "execution_count": 9,
   "id": "c52756b9",
   "metadata": {},
   "outputs": [
    {
     "data": {
      "application/vnd.jupyter.widget-view+json": {
       "model_id": "5ee73b2854fc4c568d2ab35a11a25a1b",
       "version_major": 2,
       "version_minor": 0
      },
      "text/plain": [
       "Chart(layout=Layout(align_self='stretch', height='auto'))"
      ]
     },
     "metadata": {},
     "output_type": "display_data"
    }
   ],
   "source": [
    "import pandas as pd\n",
    "from ipychart import Chart\n",
    "\n",
    "# Define sample market share data using pandas\n",
    "df = pd.DataFrame({\n",
    "    \"Company\": [\"Apple\", \"Samsung\", \"Huawei\", \"Xiaomi\", \"Oppo\", \"Vivo\"],\n",
    "    \"Market_Share\": [30, 25, 15, 12, 10, 8]  # Market share in percentage\n",
    "})\n",
    "\n",
    "# Modern color palette with transparency (RGBA format)\n",
    "color_palette = [\n",
    "    \"rgba(52, 152, 219, 0.7)\",  # Soft Blue\n",
    "    \"rgba(231, 76, 60, 0.7)\",   # Warm Red\n",
    "    \"rgba(241, 196, 15, 0.7)\",  # Bright Yellow\n",
    "    \"rgba(46, 204, 113, 0.7)\",  # Fresh Green\n",
    "    \"rgba(155, 89, 182, 0.7)\",  # Rich Purple\n",
    "    \"rgba(230, 126, 34, 0.7)\"   # Deep Orange\n",
    "]\n",
    "\n",
    "# Convert DataFrame to Chart format\n",
    "data = {\n",
    "    \"labels\": df[\"Company\"].tolist(),\n",
    "    \"datasets\": [\n",
    "        {\n",
    "            \"label\": \"Market Share\",\n",
    "            \"data\": df[\"Market_Share\"].tolist(),\n",
    "            \"backgroundColor\": color_palette,  # Semi-transparent colors\n",
    "            \"borderColor\": \"#fff\",  # Fully opaque white borders\n",
    "            \"borderWidth\": 2,\n",
    "            \"hoverOffset\": 8  # Slightly enlarges slices on hover\n",
    "        }\n",
    "    ]\n",
    "}\n",
    "\n",
    "# Create the pie chart with a smaller radius\n",
    "pie_chart = Chart(\n",
    "    data=data,\n",
    "    kind=\"pie\",  # Standard pie chart (no hole)\n",
    "    options={\n",
    "        \"plugins\": {\n",
    "            \"tooltip\": {\"enabled\": True, \"mode\": \"index\"},\n",
    "            \"legend\": {\"display\": True, \"position\": \"right\"}\n",
    "        },\n",
    "        \"layout\": {\n",
    "            \"padding\": 50  # Adds space around the pie to make it smaller visually\n",
    "        }\n",
    "    }\n",
    ")\n",
    "\n",
    "display(pie_chart)\n"
   ]
  },
  {
   "cell_type": "markdown",
   "id": "22d7987f",
   "metadata": {},
   "source": [
    "## $$Practical~Use~Cases$$\n",
    "\n",
    "Ipychart makes it easy to create interactive and visually appealing charts inside Jupyter Notebooks. Here’s where it can be super useful in real life:\n",
    "  \n",
    "**Exploring Data Easily:**  \n",
    "&nbsp;&nbsp;Instead of staring at raw numbers, you can turn them into clear, interactive charts to spot trends and patterns.  \n",
    "  \n",
    "**Making Business Reports More Engaging:**  \n",
    "&nbsp;&nbsp;If you're tracking sales, profits, or customer growth, charts can bring your data to life and make it easier to understand.  \n",
    "  \n",
    "**Tracking Machine Learning Models:**  \n",
    "&nbsp;&nbsp;Whether you're training a model or testing its accuracy, visualizing metrics helps you see what’s working and what’s not.  \n",
    "  \n",
    "**Building Live Dashboards:**  \n",
    "&nbsp;&nbsp;Keep an eye on stock prices, website traffic, or sensor data with real-time updates inside your notebook.  \n",
    "  \n",
    "**Presenting Survey Results:**  \n",
    "&nbsp;&nbsp;Instead of reading through boring spreadsheets, you can turn responses into colorful pie charts or bar graphs.  \n",
    "  \n",
    "**Comparing Products or Performance:**  \n",
    "&nbsp;&nbsp;Want to see how different phone brands stack up? A radar or polar chart can make comparisons easy to understand.   \n",
    "  \n",
    "**Helping with Research & Learning:**  \n",
    "&nbsp;&nbsp;If you’re a student or researcher, interactive charts make complex data much more accessible and fun to analyze.  \n"
   ]
  },
  {
   "cell_type": "markdown",
   "id": "124081ab",
   "metadata": {},
   "source": [
    "## $$Conclusion$$\n",
    "\n",
    "&nbsp;&nbsp;As a team, Ipychart is a powerful and user-friendly Python library that simplifies the creation of interactive and customizable charts within Jupyter Notebooks. By leveraging the robust capabilities of Chart.js, it seamlessly integrates with pandas, offers dynamic interactivity, and provides predefined color schemes—making it an excellent choice for data scientists, analysts, and educators. Whether you're conducting exploratory data analysis, creating engaging presentations, or teaching visualization concepts, Ipychart streamlines the process and enhances data storytelling. Its flexibility and ease of use make it a valuable tool for anyone working with data visualization in a notebook environment."
   ]
  },
  {
   "cell_type": "markdown",
   "id": "b401fceb",
   "metadata": {},
   "source": []
  }
 ],
 "metadata": {
  "kernelspec": {
   "display_name": "Python 3",
   "language": "python",
   "name": "python3"
  },
  "language_info": {
   "codemirror_mode": {
    "name": "ipython",
    "version": 3
   },
   "file_extension": ".py",
   "mimetype": "text/x-python",
   "name": "python",
   "nbconvert_exporter": "python",
   "pygments_lexer": "ipython3",
   "version": "3.12.5"
  }
 },
 "nbformat": 4,
 "nbformat_minor": 5
}
