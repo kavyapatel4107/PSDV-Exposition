{
 "cells": [
  {
   "cell_type": "markdown",
   "id": "16857f5a",
   "metadata": {},
   "source": [
    "## $$Introduction$$"
   ]
  },
  {
   "cell_type": "markdown",
   "id": "3ec2cafa",
   "metadata": {},
   "source": [
    "&nbsp;&nbsp;We are a team of three members: Kavya Patel, Krish Patil, and Nachiket Patil. In this article, we will explore the Ipychart library, which is used explicitly for Python in Jupyter Notebook.\n",
    "Ipychart is a Python library that leverages the power of Chart.js to enable the creation of fully interactive, customizable, and modular charts directly within Jupyter Notebooks. It allows seamless chart creation using Python syntax, supports integration with pandas data frames for quick visualization, and offers features like dynamic tooltips, zooming, and predefined color schemes. Particularly useful for data scientists and analysts, Ipychart simplifies data visualization by enabling the creation of visually appealing, interactive charts without leaving the Jupyter Notebook environment, streamlining exploratory data analysis and presentation."
   ]
  },
  {
   "cell_type": "markdown",
   "id": "6fc02904",
   "metadata": {},
   "source": [
    "## $$Installation~and~Setup$$\n",
    "&nbsp;&nbsp;In this section, we will guide you through the installation and setup of Chart.js in the form of Ipychart on your system for use in Jupyter Notebook. You will learn how to install the ipychart library, verify the installation, and enable it in Jupyter. Once set up, you can easily create interactive charts using Ipychart in your notebooks."
   ]
  },
  {
   "cell_type": "markdown",
   "id": "e20039f7",
   "metadata": {},
   "source": [
    "### **Installation**"
   ]
  },
  {
   "cell_type": "markdown",
   "id": "18335184",
   "metadata": {},
   "source": [
    "Install the ipychart Library     .   \n",
    "Since ipychart is a Python library, we need to install it using pip. Open the command prompt and run:\n"
   ]
  },
  {
   "cell_type": "code",
   "execution_count": null,
   "id": "383c838c",
   "metadata": {},
   "outputs": [],
   "source": [
    "pip install ipychart"
   ]
  },
  {
   "cell_type": "markdown",
   "id": "1d30cb06",
   "metadata": {},
   "source": [
    "### **Setup**"
   ]
  },
  {
   "cell_type": "markdown",
   "id": "854d1da9",
   "metadata": {},
   "source": [
    "To use Chart.js in the form of Ipychart in your Jupyter Notebook, import the following library:\n"
   ]
  },
  {
   "cell_type": "code",
   "execution_count": null,
   "id": "4033ff91",
   "metadata": {},
   "outputs": [],
   "source": [
    "from ipychart import Chart"
   ]
  },
  {
   "cell_type": "markdown",
   "id": "52bd27cd",
   "metadata": {},
   "source": [
    "Now, you are ready to use Ipychart in your Jupyter Notebook!"
   ]
  },
  {
   "cell_type": "markdown",
   "id": "75951740",
   "metadata": {},
   "source": [
    "## $$Key~Features~and~Explanation$$"
   ]
  },
  {
   "cell_type": "markdown",
   "id": "b472c324",
   "metadata": {},
   "source": [
    "Ipychart offers a range of powerful features that make it an excellent tool for interactive data visualization in Jupyter Notebooks:"
   ]
  },
  {
   "cell_type": "markdown",
   "id": "8599d43e",
   "metadata": {},
   "source": [
    "**Integration with Chart.js**:  \n",
    "&nbsp;&nbsp;&nbsp;&nbsp;It brings the capabilities of Chart.js to Python, supporting a wide variety of chart types such as line, bar, pie, doughnut, radar, and scatter charts, among others.  \n",
    "\n",
    "**Pandas Interface**:  \n",
    "&nbsp;&nbsp;&nbsp;&nbsp;Ipychart allows seamless chart creation directly from pandas dataframes, making it easy to visualize data without extensive preprocessing.  \n",
    "\n",
    "**High Customizability**:  \n",
    "&nbsp;&nbsp;&nbsp;&nbsp;Users can configure legends, titles, tooltips, scales, layouts, and animations through Python dictionaries. Advanced customization is also possible using JavaScript callback functions.  \n",
    "\n",
    "**Interactive Features**:  \n",
    "&nbsp;&nbsp;&nbsp;&nbsp;Charts include dynamic tooltips, clickable legends, and zoom functionality for enhanced interactivity. Zooming can be reset with a double click.  \n",
    "\n",
    "**Predefined Color Schemes**:  \n",
    "&nbsp;&nbsp;&nbsp;&nbsp;It supports automatic color schemes inspired by tools like Tableau and ColorBrewer for visually appealing charts.  \n",
    "\n",
    "**Export Capability**:  \n",
    "&nbsp;&nbsp;&nbsp;&nbsp;Charts can be exported as PNG or JPG images using the `to_image()` method.  \n",
    "\n",
    "**Responsive Design**:  \n",
    "&nbsp;&nbsp;&nbsp;&nbsp;Charts adapt to different screen sizes for optimal display across devices.    \n",
    "  \n",
    "These features make Ipychart a versatile and user-friendly library for creating engaging visualizations directly within Jupyter Notebook environments.\n"
   ]
  },
  {
   "cell_type": "markdown",
   "id": "290d4973",
   "metadata": {},
   "source": [
    "## $$Conclusion$$\n",
    "\n",
    "&nbsp;&nbsp;As a team, Ipychart is a powerful and user-friendly Python library that simplifies the creation of interactive and customizable charts within Jupyter Notebooks. By leveraging the robust capabilities of Chart.js, it seamlessly integrates with pandas, offers dynamic interactivity, and provides predefined color schemes—making it an excellent choice for data scientists, analysts, and educators. Whether you're conducting exploratory data analysis, creating engaging presentations, or teaching visualization concepts, Ipychart streamlines the process and enhances data storytelling. Its flexibility and ease of use make it a valuable tool for anyone working with data visualization in a notebook environment."
   ]
  },
  {
   "cell_type": "markdown",
   "id": "eb1726c7",
   "metadata": {},
   "source": [
    "## $$Code~Examples$$"
   ]
  },
  {
   "cell_type": "markdown",
   "id": "82284e23",
   "metadata": {},
   "source": [
    "**Example 1**"
   ]
  },
  {
   "cell_type": "code",
   "execution_count": 3,
   "id": "48f70cff",
   "metadata": {},
   "outputs": [
    {
     "data": {
      "application/vnd.jupyter.widget-view+json": {
       "model_id": "a5033aad486740e6afa7ddff8f93e1ba",
       "version_major": 2,
       "version_minor": 0
      },
      "text/plain": [
       "Chart(layout=Layout(align_self='stretch', height='auto'))"
      ]
     },
     "execution_count": 3,
     "metadata": {},
     "output_type": "execute_result"
    }
   ],
   "source": [
    "import random\n",
    "from ipychart import Chart\n",
    "from IPython.display import display\n",
    "from ipywidgets import widgets\n",
    "from matplotlib import pyplot as plt\n",
    "from ipywidgets import interact\n",
    "\n",
    "random.seed(0)\n",
    "\n",
    "# Sample data: (sales, ratings, popularity)\n",
    "data = {\n",
    "    \"bubble\": [\n",
    "        (random.randint(100, 500), random.uniform(1, 5), random.randint(100, 500))\n",
    "        for _ in range(10)\n",
    "    ]\n",
    "}\n",
    "\n",
    "bubble_chart = Chart(\n",
    "    data={\n",
    "        \"datasets\": [\n",
    "            {\n",
    "                \"label\": \"Product Popularity\",\n",
    "                \"data\": [{\"x\": b[0], \"y\": b[1], \"r\": b[2] / 20} for b in data[\"bubble\"]],\n",
    "                \"backgroundColor\": \"rgba(128, 0, 128, 0.6)\",\n",
    "                \"borderColor\": \"rgba(75, 0, 130, 1)\",\n",
    "                \"borderWidth\": 2,\n",
    "                \"hoverBackgroundColor\": \"rgba(255, 0, 255, 0.8)\",\n",
    "            }\n",
    "        ]\n",
    "    },\n",
    "    options={\n",
    "        \"plugins\": {\n",
    "            \"tooltip\": {\"enabled\": True, \"mode\": \"nearest\"},\n",
    "            \"legend\": {\"display\": True, \"position\": \"top\"}\n",
    "        },\n",
    "        \"scales\": {\n",
    "            \"x\": {\"title\": {\"display\": True, \"text\": \"Sales\"}},\n",
    "            \"y\": {\"title\": {\"display\": True, \"text\": \"Ratings\"}}\n",
    "        }\n",
    "    },\n",
    "    kind=\"bubble\"\n",
    ")\n",
    "\n",
    "# Display the chart\n",
    "bubble_chart"
   ]
  },
  {
   "cell_type": "code",
   "execution_count": null,
   "id": "48c10a67",
   "metadata": {},
   "outputs": [],
   "source": []
  }
 ],
 "metadata": {
  "kernelspec": {
   "display_name": "Python 3",
   "language": "python",
   "name": "python3"
  },
  "language_info": {
   "codemirror_mode": {
    "name": "ipython",
    "version": 3
   },
   "file_extension": ".py",
   "mimetype": "text/x-python",
   "name": "python",
   "nbconvert_exporter": "python",
   "pygments_lexer": "ipython3",
   "version": "3.12.5"
  }
 },
 "nbformat": 4,
 "nbformat_minor": 5
}
