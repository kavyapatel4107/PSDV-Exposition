{
 "cells": [
  {
   "cell_type": "markdown",
   "id": "16857f5a",
   "metadata": {},
   "source": [
    "## $$Introduction$$"
   ]
  },
  {
   "cell_type": "markdown",
   "id": "3ec2cafa",
   "metadata": {},
   "source": [
    "We are a team of three members: Kavya Patel, Krish Patil, and Nachiket Patil. In this article, we will explore the Ipychart library, which is used explicitly for Python in Jupyter Notebook.\n",
    "Ipychart is a Python library that leverages the power of Chart.js to enable the creation of fully interactive, customizable, and modular charts directly within Jupyter Notebooks. It allows seamless chart creation using Python syntax, supports integration with pandas data frames for quick visualization, and offers features like dynamic tooltips, zooming, and predefined color schemes. Particularly useful for data scientists and analysts, Ipychart simplifies data visualization by enabling the creation of visually appealing, interactive charts without leaving the Jupyter Notebook environment, streamlining exploratory data analysis and presentation."
   ]
  },
  {
   "cell_type": "markdown",
   "id": "6fc02904",
   "metadata": {},
   "source": [
    "## $$Installation~and~Setup$$"
   ]
  },
  {
   "cell_type": "markdown",
   "id": "78fb06b8",
   "metadata": {},
   "source": [
    "In this section, we will guide you through the installation and setup of Chart.js in the form of Ipychart on your system for use in Jupyter Notebook. You will learn how to install the ipychart library, verify the installation, and enable it in Jupyter. Once set up, you can easily create interactive charts using Ipychart in your notebooks.\n"
   ]
  },
  {
   "cell_type": "markdown",
   "id": "e20039f7",
   "metadata": {},
   "source": [
    "### **Installation**"
   ]
  },
  {
   "cell_type": "markdown",
   "id": "18335184",
   "metadata": {},
   "source": [
    "Step 1: Install the ipychart Library        \n",
    "Since ipychart is a Python library, we need to install it using pip. Open the command prompt and run:\n"
   ]
  },
  {
   "cell_type": "code",
   "execution_count": null,
   "id": "bb0d4b82",
   "metadata": {},
   "outputs": [],
   "source": [
    "pip install ipychart"
   ]
  }
 ],
 "metadata": {
  "kernelspec": {
   "display_name": "Python 3",
   "language": "python",
   "name": "python3"
  },
  "language_info": {
   "codemirror_mode": {
    "name": "ipython",
    "version": 3
   },
   "file_extension": ".py",
   "mimetype": "text/x-python",
   "name": "python",
   "nbconvert_exporter": "python",
   "pygments_lexer": "ipython3",
   "version": "3.12.5"
  }
 },
 "nbformat": 4,
 "nbformat_minor": 5
}
